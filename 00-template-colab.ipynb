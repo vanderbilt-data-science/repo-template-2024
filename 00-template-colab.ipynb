{
  "nbformat": 4,
  "nbformat_minor": 0,
  "metadata": {
    "colab": {
      "provenance": [],
      "authorship_tag": "ABX9TyM4tELNEXDVAQKq7i4+Nw28",
      "include_colab_link": true
    },
    "kernelspec": {
      "name": "python3",
      "display_name": "Python 3"
    },
    "language_info": {
      "name": "python"
    }
  },
  "cells": [
    {
      "cell_type": "markdown",
      "metadata": {
        "id": "view-in-github",
        "colab_type": "text"
      },
      "source": [
        "<a href=\"https://colab.research.google.com/github/vanderbilt-data-science/poschat-dssg/blob/main/00_template-colab.ipynb\" target=\"_parent\"><img src=\"https://colab.research.google.com/assets/colab-badge.svg\" alt=\"Open In Colab\"/></a>"
      ]
    },
    {
      "cell_type": "markdown",
      "source": [
        "# Jupyter Notebooks with Google Colab!\n",
        "\n",
        "Jupyter notebooks are a great way to write code in an easily-readable, accessible way.\n",
        "\n",
        "Google colab lets you create notebooks while connected to their compute power. You can also interact with GitHub directly through google colab once you've finished your notebook and are ready to commit it.\n",
        "\n",
        "These markdown cells are used in a jupyter notebook to break up the code, and explain what you're doing and why."
      ],
      "metadata": {
        "id": "oKZHCXXUUnqQ"
      }
    },
    {
      "cell_type": "markdown",
      "source": [
        "## Let's get started!\n",
        "\n",
        "To run a cell, you can hit the play button that appears on the left <----\n",
        "Or, in the menu above, Runtime -> Run all will run all cells in the current notebook."
      ],
      "metadata": {
        "id": "GrilQUB7ULd1"
      }
    },
    {
      "cell_type": "markdown",
      "source": [
        "If you need to install any new packages that aren't already in colab, you can do that within a cell, like this:"
      ],
      "metadata": {
        "id": "VvZZSst9UObL"
      }
    },
    {
      "cell_type": "code",
      "source": [
        "#!pip install [package name]\n",
        "!pip install transformers"
      ],
      "metadata": {
        "id": "h-VNI55dUWOO"
      },
      "execution_count": null,
      "outputs": []
    },
    {
      "cell_type": "code",
      "source": [
        "## TIP: add \"%%capture\" to the top of a cell if you don't want to see the outputs!\n",
        "%%capture\n",
        "!pip install datasets"
      ],
      "metadata": {
        "id": "YyvDk7JuUitI"
      },
      "execution_count": null,
      "outputs": []
    },
    {
      "cell_type": "markdown",
      "source": [
        "You may need to restart the kernel (above to go Runtime -> Restart session) for the installs above to take effect."
      ],
      "metadata": {
        "id": "AUmAeeE0UVex"
      }
    },
    {
      "cell_type": "markdown",
      "source": [
        "## Writing project code\n",
        "\n",
        "Here, we can write the code for the project in as many cells as we need.\n",
        "\n",
        "Cells are helpful, because you can avoid needing to re-run everything every time. So, if it takes a long time to load some data or a model, you can do it once, and then just re-run cells that you're actively working on after that."
      ],
      "metadata": {
        "id": "j-bF1kmkVpuI"
      }
    },
    {
      "cell_type": "markdown",
      "source": [
        "### Data Loading\n",
        "\n",
        "Be descriptive in cells, and include links where possible, you can also:\n",
        "\n",
        "\n",
        "1.   add bulleted or numbered lists\n",
        "2.   format things in **bold** or *italics*\n",
        "3.   insert [links](https://colab.research.google.com)\n",
        "\n"
      ],
      "metadata": {
        "id": "K-Znmy-3WbSZ"
      }
    },
    {
      "cell_type": "code",
      "source": [
        "# code to load in data"
      ],
      "metadata": {
        "id": "NQaXfkkhXAIo"
      },
      "execution_count": null,
      "outputs": []
    },
    {
      "cell_type": "markdown",
      "source": [
        "### Useful functions for project"
      ],
      "metadata": {
        "id": "r5Xcdk3uXC7H"
      }
    },
    {
      "cell_type": "code",
      "source": [
        "# code for project"
      ],
      "metadata": {
        "id": "ars7A31YXF5n"
      },
      "execution_count": null,
      "outputs": []
    },
    {
      "cell_type": "markdown",
      "source": [
        "## Pushing to Github\n",
        "\n",
        "When you want to commit your current work, go to File -> Save a copy in GitHub"
      ],
      "metadata": {
        "id": "NkqsBzP_XHck"
      }
    }
  ]
}
